{
 "cells": [
  {
   "cell_type": "code",
   "execution_count": 1,
   "id": "47e35f9a-26b2-49df-a60f-b26544dc98d1",
   "metadata": {},
   "outputs": [
    {
     "name": "stdout",
     "output_type": "stream",
     "text": [
      "<class 'numpy.ndarray'>\n",
      "2\n",
      "(2, 3)\n",
      "6\n",
      "int32\n"
     ]
    }
   ],
   "source": [
    "import numpy as np\n",
    "arr=np.array([[1,2,3],\n",
    "              [4,5,6]])\n",
    "print(type(arr))\n",
    "print(arr.ndim)\n",
    "print(arr.shape)\n",
    "print(arr.size)\n",
    "print(arr.dtype)"
   ]
  },
  {
   "cell_type": "code",
   "execution_count": 2,
   "id": "e2f1ea47-f3e3-4a5f-9e84-f80f7879bd81",
   "metadata": {},
   "outputs": [
    {
     "name": "stdout",
     "output_type": "stream",
     "text": [
      "[[1. 2. 3.]\n",
      " [4. 5. 6.]]\n",
      "[1 3 2]\n",
      "[[0. 0. 0. 0.]\n",
      " [0. 0. 0. 0.]\n",
      " [0. 0. 0. 0.]]\n",
      "[[6.+0.j 6.+0.j 6.+0.j]\n",
      " [6.+0.j 6.+0.j 6.+0.j]\n",
      " [6.+0.j 6.+0.j 6.+0.j]]\n",
      "[[0.33627636 0.40911159]\n",
      " [0.2864611  0.62759429]]\n",
      "[ 0  5 10 15 20 25]\n",
      "[0.         0.55555556 1.11111111 1.66666667 2.22222222 2.77777778\n",
      " 3.33333333 3.88888889 4.44444444 5.        ]\n"
     ]
    }
   ],
   "source": [
    "a=np.array([[1,2,3],[4,5,6]],dtype=float)\n",
    "b=np.array((1,3,2))\n",
    "c=np.zeros((3,4))\n",
    "d=np.full((3,3),6,dtype='complex')\n",
    "e=np.random.random((2,2))\n",
    "f=np.arange(0,30,5)\n",
    "g=np.linspace(0,5,10)\n",
    "print(a)\n",
    "print(b)\n",
    "print(c)\n",
    "print(d)\n",
    "print(e)\n",
    "print(f)\n",
    "print(g)"
   ]
  },
  {
   "cell_type": "code",
   "execution_count": 3,
   "id": "320d7259-0b67-4ebd-9105-656b143b86b6",
   "metadata": {},
   "outputs": [
    {
     "name": "stdout",
     "output_type": "stream",
     "text": [
      "[[1 2 3 4]\n",
      " [5 2 4 2]\n",
      " [1 2 0 1]]\n",
      "[1 2 3 4 5 2 4 2 1 2 0 1]\n"
     ]
    }
   ],
   "source": [
    "arr=np.array([[1,2,3,4],\n",
    "              [5,2,4,2],\n",
    "              [1,2,0,1]])\n",
    "newarr=arr.reshape(2,2,3)\n",
    "print(arr)\n",
    "flarr=arr.flatten()\n",
    "print(flarr)"
   ]
  },
  {
   "cell_type": "code",
   "execution_count": 4,
   "id": "db2fc9f6-83c6-42f5-9dbe-849a56866660",
   "metadata": {},
   "outputs": [
    {
     "name": "stdout",
     "output_type": "stream",
     "text": [
      "[[-1.  0.]\n",
      " [ 4.  6.]]\n",
      "[4. 6. 0. 3.]\n",
      "[2.  4.  4.  6.  2.6 7.  8.  3.  4.  2. ]\n"
     ]
    }
   ],
   "source": [
    "arr=np.array([[-1,2,0,4],\n",
    "              [4,-0.5,6,0],\n",
    "              [2.6,0,7,8],\n",
    "              [3,-7,4,2]])\n",
    "temp=arr[:2,::2]\n",
    "print(temp)\n",
    "temp=arr[[0,1,2,3],[3,2,1,0]]\n",
    "print(temp)\n",
    "cond=arr>0\n",
    "temp=arr[cond]\n",
    "print(temp)"
   ]
  },
  {
   "cell_type": "code",
   "execution_count": 5,
   "id": "62f1d190-eb08-43cd-b3be-366e8f9cfb17",
   "metadata": {},
   "outputs": [
    {
     "name": "stdout",
     "output_type": "stream",
     "text": [
      "[2 3 6 4]\n",
      "[-2 -1  2  0]\n",
      "[11 12 15 13]\n",
      "[ 1  4 25  9]\n",
      "[ 2  4 10  6]\n",
      "[[1 2 3]\n",
      " [3 4 5]\n",
      " [9 6 0]]\n",
      "[[1 3 9]\n",
      " [2 4 6]\n",
      " [3 5 0]]\n"
     ]
    }
   ],
   "source": [
    "a=np.array([1,2,5,3])\n",
    "print(a+1)\n",
    "print(a-3)\n",
    "print(a+10)\n",
    "print(a**2)\n",
    "a*=2\n",
    "print(a)\n",
    "a=np.array([[1,2,3],[3,4,5],[9,6,0]])\n",
    "print(a)\n",
    "print(a.T)"
   ]
  },
  {
   "cell_type": "code",
   "execution_count": 6,
   "id": "691a1163-9018-4363-889b-3312fd627c9e",
   "metadata": {},
   "outputs": [
    {
     "name": "stdout",
     "output_type": "stream",
     "text": [
      "9\n",
      "[6 7 9]\n",
      "[1 1 2]\n",
      "38\n",
      "[[ 1  6 12]\n",
      " [ 4 11 13]\n",
      " [ 3  4 13]]\n"
     ]
    }
   ],
   "source": [
    "arr=np.array([[1,5,6],\n",
    "              [4,7,2],\n",
    "              [3,1,9]])\n",
    "print(arr.max())\n",
    "print(arr.max(axis=1))\n",
    "print(arr.min(axis=0))\n",
    "print(arr.sum())\n",
    "print(arr.cumsum(axis=1))"
   ]
  },
  {
   "cell_type": "code",
   "execution_count": 7,
   "id": "3dba28a8-066e-47ae-816f-1246a8b3ca04",
   "metadata": {},
   "outputs": [
    {
     "name": "stdout",
     "output_type": "stream",
     "text": [
      "[[5 5]\n",
      " [5 5]]\n",
      "[[4 6]\n",
      " [6 4]]\n",
      "[[ 8  5]\n",
      " [20 13]]\n"
     ]
    }
   ],
   "source": [
    "a=np.array([[1,2],\n",
    "            [3,4]])\n",
    "b=np.array([[4,3],\n",
    "            [2,1]])\n",
    "print(a+b)\n",
    "print(a*b)\n",
    "print(a.dot(b))"
   ]
  },
  {
   "cell_type": "code",
   "execution_count": 8,
   "id": "a6cd51e4-3983-4f18-b2c7-29c202df301a",
   "metadata": {},
   "outputs": [
    {
     "name": "stdout",
     "output_type": "stream",
     "text": [
      "[0.0000000e+00 1.0000000e+00 1.2246468e-16]\n",
      "[ 1.          2.71828183  7.3890561  20.08553692]\n",
      "[0.         1.         1.41421356 1.73205081]\n"
     ]
    }
   ],
   "source": [
    "a=np.array([0,np.pi/2,np.pi])\n",
    "print(np.sin(a))\n",
    "a=np.array([0,1,2,3])\n",
    "print(np.exp(a))\n",
    "print(np.sqrt(a))"
   ]
  },
  {
   "cell_type": "code",
   "execution_count": 9,
   "id": "54ceaec6-0ed2-45c6-bb3c-fb31036391e1",
   "metadata": {},
   "outputs": [
    {
     "name": "stdout",
     "output_type": "stream",
     "text": [
      "[-1  0  1  2  3  4  4  5  6]\n",
      "[[ 1  2  4]\n",
      " [ 3  4  6]\n",
      " [-1  0  5]]\n",
      "[[ 0 -1  2]\n",
      " [ 1  4  5]\n",
      " [ 3  4  6]]\n",
      "[(b'Ajay', 2008, 8.7) (b'Hrithik', 2009, 8.5) (b'Pankaj', 2008, 7.9)]\n"
     ]
    }
   ],
   "source": [
    "a=np.array([[1,4,2],\n",
    "            [3,4,6],\n",
    "            [0,-1,5]])\n",
    "print(np.sort(a,axis=None))\n",
    "print(np.sort(a,axis=1))\n",
    "print(np.sort(a,axis=0,kind='mergesort'))\n",
    "dtypes=[('name','S10'),('grad_year',int),('cgpa',float)]\n",
    "values=[('Hrithik',2009,8.5),('Ajay',2008,8.7),('Pankaj',2008,7.9)]\n",
    "arr=np.array(values,dtype=dtypes)\n",
    "print(np.sort(arr,order='name'))"
   ]
  },
  {
   "cell_type": "code",
   "execution_count": 10,
   "id": "7729682c-3b50-41c0-ae71-47505f8bdce0",
   "metadata": {},
   "outputs": [
    {
     "name": "stdout",
     "output_type": "stream",
     "text": [
      "[[1 2]\n",
      " [3 4]\n",
      " [5 6]\n",
      " [7 8]]\n",
      "[[1 2 5 6]\n",
      " [3 4 7 8]]\n",
      "[[1 2 5]\n",
      " [3 4 6]]\n",
      "[[1 2 5 6]\n",
      " [3 4 7 8]]\n"
     ]
    }
   ],
   "source": [
    "a=np.array([[1,2],\n",
    "            [3,4]])\n",
    "b=np.array([[5,6],\n",
    "            [7,8]])\n",
    "print(np.vstack((a,b)))\n",
    "print(np.hstack((a,b)))\n",
    "c=[5,6]\n",
    "print(np.column_stack((a,c)))\n",
    "print(np.concatenate((a,b),1))"
   ]
  },
  {
   "cell_type": "code",
   "execution_count": 11,
   "id": "ba9313f0-1a5a-4121-920c-4e048f9ca724",
   "metadata": {},
   "outputs": [
    {
     "name": "stdout",
     "output_type": "stream",
     "text": [
      "[array([[1, 3, 5],\n",
      "       [2, 4, 6]]), array([[ 7,  9, 11],\n",
      "       [ 8, 10, 12]])]\n",
      "[array([[ 1,  3,  5,  7,  9, 11]]), array([[ 2,  4,  6,  8, 10, 12]])]\n"
     ]
    }
   ],
   "source": [
    "a=np.array([[1,3,5,7,9,11],\n",
    "            [2,4,6,8,10,12]])\n",
    "print(np.hsplit(a,2))\n",
    "print(np.vsplit(a,2))"
   ]
  },
  {
   "cell_type": "code",
   "execution_count": 13,
   "id": "9660417c-d153-4078-9407-9f507a42fded",
   "metadata": {},
   "outputs": [
    {
     "name": "stdout",
     "output_type": "stream",
     "text": [
      "[[1 2 3 4]\n",
      " [7 6 2 0]]\n",
      "0\n",
      "[1 2 2 0]\n",
      "[1 0]\n"
     ]
    }
   ],
   "source": [
    "a=np.array(([1,2,3,4],[7,6,2,0]))\n",
    "print(a)\n",
    "print(np.min(a))\n",
    "print(np.min(a,axis=0))\n",
    "print(np.min(a,axis=1))"
   ]
  },
  {
   "cell_type": "code",
   "execution_count": 14,
   "id": "c1fe09b0-f135-4ffa-84df-b39403774a4f",
   "metadata": {},
   "outputs": [
    {
     "name": "stdout",
     "output_type": "stream",
     "text": [
      "3.0\n",
      "3.0\n",
      "[4.  4.  2.5 2. ]\n",
      "[2.5  3.75]\n"
     ]
    }
   ],
   "source": [
    "b=np.array([1,2,3,4,5])\n",
    "m=sum(b)/5\n",
    "print(m)\n",
    "print(np.mean(b))\n",
    "print(np.mean(a,axis=0))\n",
    "print(np.mean(a,axis=1))"
   ]
  },
  {
   "cell_type": "code",
   "execution_count": 16,
   "id": "89474a2c-442a-4376-97bc-793e8a0ba457",
   "metadata": {},
   "outputs": [
    {
     "name": "stdout",
     "output_type": "stream",
     "text": [
      "2.0\n",
      "2.4\n",
      "2.4\n",
      "1.854723699099141\n",
      "1.854723699099141\n",
      "3.440000000000001\n",
      "3.4400000000000004\n"
     ]
    }
   ],
   "source": [
    "c=np.array([1,5,4,2,0])\n",
    "print(np.median(c))\n",
    "print(np.mean(c))\n",
    "w=np.ones(5)\n",
    "print(np.average(c,weights=w))\n",
    "u=np.mean(c)\n",
    "myStd=np.sqrt(np.mean(abs(c-u)**2))\n",
    "print(myStd)\n",
    "dev=np.std(c)\n",
    "print(dev)\n",
    "print(myStd**2)\n",
    "print(np.var(c))"
   ]
  },
  {
   "cell_type": "code",
   "execution_count": 17,
   "id": "1bf6f8f7-540f-4b27-82cc-3d2af5f2702c",
   "metadata": {},
   "outputs": [
    {
     "name": "stdout",
     "output_type": "stream",
     "text": [
      "[ 5  6  7  8  9 10 11 12 13 14]\n",
      "[ 7 14 11  9  5  8  6 12 13 10]\n",
      "[[ 1.5827523  -1.04514683  0.25759352]\n",
      " [-1.9593946  -1.50780766 -0.31529207]]\n",
      "[7 9 6]\n",
      "4\n"
     ]
    }
   ],
   "source": [
    "a=np.arange(10)+5\n",
    "print(a)\n",
    "np.random.seed(1)\n",
    "np.random.shuffle(a)\n",
    "print(a)\n",
    "a=np.random.randn(2,3)\n",
    "print(a)\n",
    "a=np.random.randint(5,10,3)\n",
    "print(a)\n",
    "element=np.random.choice([1,4,3,2,11,27])\n",
    "print(element)"
   ]
  }
 ],
 "metadata": {
  "kernelspec": {
   "display_name": "Python 3 (ipykernel)",
   "language": "python",
   "name": "python3"
  },
  "language_info": {
   "codemirror_mode": {
    "name": "ipython",
    "version": 3
   },
   "file_extension": ".py",
   "mimetype": "text/x-python",
   "name": "python",
   "nbconvert_exporter": "python",
   "pygments_lexer": "ipython3",
   "version": "3.12.4"
  }
 },
 "nbformat": 4,
 "nbformat_minor": 5
}
